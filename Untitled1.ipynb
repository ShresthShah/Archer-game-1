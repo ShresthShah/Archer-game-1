{
  "nbformat": 4,
  "nbformat_minor": 0,
  "metadata": {
    "colab": {
      "provenance": [],
      "authorship_tag": "ABX9TyPMoUQCJm1s3mn6b5hc4zzX",
      "include_colab_link": true
    },
    "kernelspec": {
      "name": "python3",
      "display_name": "Python 3"
    },
    "language_info": {
      "name": "python"
    }
  },
  "cells": [
    {
      "cell_type": "markdown",
      "metadata": {
        "id": "view-in-github",
        "colab_type": "text"
      },
      "source": [
        "<a href=\"https://colab.research.google.com/github/ShresthShah/Archer-game-1/blob/main/Untitled1.ipynb\" target=\"_parent\"><img src=\"https://colab.research.google.com/assets/colab-badge.svg\" alt=\"Open In Colab\"/></a>"
      ]
    },
    {
      "cell_type": "code",
      "execution_count": 5,
      "metadata": {
        "id": "BWMbP2VBxirE"
      },
      "outputs": [],
      "source": [
        "class MovieReview:\n",
        "  def __init__(self,movie,story,actors,music):\n",
        "    self.movie_name = movie\n",
        "\n",
        "    self.story_rating = story\n",
        "    self.actor_rating = actors\n",
        "    self.music_rating = music\n",
        "    \n",
        "    self.avg = int((self.story_rating + self.actor_rating + self.music_rating)/3)\n",
        "\n",
        "    self.myrating = {\n",
        "        \"Movie Name\" : self.movie_name,\n",
        "        \"Story Rating\" : self.story_rating,\n",
        "        \"Actor Rating\" : self.actor_rating,\n",
        "        \"Avg Rating\" : self.avg\n",
        "    }\n"
      ]
    },
    {
      "cell_type": "code",
      "source": [
        "moviereviews = []\n",
        "review2 = MovieReview(\"Beautiful Sound\", 5, 5, 5)\n",
        "movie_list.append(self.myrating)"
      ],
      "metadata": {
        "id": "_WbbW_vky-Pf"
      },
      "execution_count": null,
      "outputs": []
    },
    {
      "cell_type": "code",
      "source": [
        "def avf_star_rating(self, movie_list):\n",
        "  for movie in movie_list:\n",
        "    if(movie[\"Avg Rating\"] == 1):\n",
        "      print(\"Thanks for the response, You rated Movie with    *\")\n",
        "      print(movie)\n",
        "\n",
        "    elif(movie[\"Avg Rating\"] == 2):\n",
        "      review2 = MovieReview(\"Beautiful Sound\", 5, 5, 5)\n",
        "      review2.add_movie_ratings(moviereviews)\n",
        "      review2.avg_star_ratings(moviereviews)"
      ],
      "metadata": {
        "id": "LTqlj_maziSo"
      },
      "execution_count": 4,
      "outputs": []
    },
    {
      "cell_type": "code",
      "source": [],
      "metadata": {
        "id": "TBDRyQAN0HKL"
      },
      "execution_count": null,
      "outputs": []
    }
  ]
}